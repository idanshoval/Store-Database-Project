{
 "cells": [
  {
   "cell_type": "markdown",
   "metadata": {},
   "source": [
    "# Import libraries"
   ]
  },
  {
   "cell_type": "code",
   "execution_count": 4,
   "metadata": {},
   "outputs": [],
   "source": [
    "\n",
    "import requests\n",
    "import pyodbc\n",
    "import random\n",
    "from dotenv import load_dotenv\n",
    "import os"
   ]
  },
  {
   "cell_type": "markdown",
   "metadata": {},
   "source": [
    "# Global Variables "
   ]
  },
  {
   "cell_type": "code",
   "execution_count": null,
   "metadata": {},
   "outputs": [
    {
     "name": "stdout",
     "output_type": "stream",
     "text": [
      "7e956bd54f1c415a91251763f6447426\n"
     ]
    }
   ],
   "source": [
    "load_dotenv()\n",
    "DRIVER= os.getenv(\"DRIVER\")\n",
    "SERVER=os.getenv(\"SERVER\")\n",
    "DATABASE=os.getenv('DATABASE')\n",
    "Trusted_Connection=os.getenv('Trusted_Connection')\n",
    "Base_url=os.getenv('Base_url')\n",
    "key=os.getenv('key')\n"
   ]
  },
  {
   "cell_type": "markdown",
   "metadata": {},
   "source": [
    "# Conecting SQL SERVER"
   ]
  },
  {
   "cell_type": "code",
   "execution_count": 13,
   "metadata": {},
   "outputs": [],
   "source": [
    "\n",
    "# Connect to SQL Server (Global variables)\n",
    "conn = pyodbc.connect(f'DRIVER={DRIVER};'\n",
    "                      f'SERVER={SERVER}'\n",
    "                      f'DATABASE={DATABASE};'\n",
    "                     f'Trusted_Connection={Trusted_Connection};'\n",
    "                                              )\n",
    "\n",
    "cursor = conn.cursor()"
   ]
  },
  {
   "cell_type": "markdown",
   "metadata": {},
   "source": [
    "# function:product_exists"
   ]
  },
  {
   "cell_type": "code",
   "execution_count": 55,
   "metadata": {},
   "outputs": [],
   "source": [
    "def product_exists(product_id,Table):\n",
    "    query = f\"SELECT TOP 1 1 FROM {Table} WHERE id = ?\"\n",
    "    cursor.execute(query, (product_id,))\n",
    "    return cursor.fetchone() is not None"
   ]
  },
  {
   "cell_type": "markdown",
   "metadata": {},
   "source": [
    "# function: Inserting products data Api into Sql Products table:"
   ]
  },
  {
   "cell_type": "code",
   "execution_count": 56,
   "metadata": {},
   "outputs": [],
   "source": [
    "#---- i didnt finish\n",
    "def insert_products(Products_info,Table):\n",
    "    new_products=[]\n",
    "    for product in Products_info:\n",
    "        if not product_exists(product['id'],Table):\n",
    "            new_products.append((\n",
    "                product['id'],\n",
    "                product['title'],\n",
    "                product['category'],\n",
    "                product['description'],\n",
    "                float(product['price'])\n",
    "            ))\n",
    "    \n",
    "\n",
    "    insert_query = \"\"\"\n",
    "    INSERT INTO SILVER.Store_Products (id, title, category, description,price)\n",
    "    VALUES (?, ?, ?, ?,?)\n",
    "    \"\"\"\n",
    "    cursor.executemany(insert_query, new_products)\n",
    "    conn.commit()"
   ]
  },
  {
   "cell_type": "markdown",
   "metadata": {},
   "source": [
    "# extraction of Users,Carts, Products from Api"
   ]
  },
  {
   "cell_type": "code",
   "execution_count": 57,
   "metadata": {},
   "outputs": [],
   "source": [
    "def Pulling_Store_Api_Data():\n",
    "    # Define the API endpoint\n",
    "    Base_url = \"https://fakestoreapi.com/\"\n",
    "    entites_list=['products','carts','users']\n",
    "    # Pulling  all the relevent information of the entity\n",
    "    All_data={}\n",
    "\n",
    "    # Send the GET request\n",
    "    for entity in entites_list:\n",
    "        response = requests.get(Base_url+entity)\n",
    "        # Check if the request was successful (status code 200)\n",
    "        if response.status_code == 200:\n",
    "            # Parse the JSON response\n",
    "            data = response.json()\n",
    "            All_data[entity]=data\n",
    "        # Print the JSON data\n",
    "    return All_data\n"
   ]
  },
  {
   "cell_type": "markdown",
   "metadata": {},
   "source": [
    "# Extracation of geographic information"
   ]
  },
  {
   "cell_type": "code",
   "execution_count": 15,
   "metadata": {},
   "outputs": [],
   "source": [
    "# Define the API endpoint(Q=latitude,longitude)\n",
    "def Pulling_Geographic_Api_Data(latitude,longitude):\n",
    "    url = f\"https://api.opencagedata.com/geocode/v1/json?q={latitude}%2C{longitude}&key={key}\"\n",
    "    response_product = requests.get(url) \n",
    "    # Check if the request was successful (status code 200)\n",
    "    if response_product.status_code == 200:\n",
    "        # Parse the JSON response\n",
    "        data_ = response_product.json()\n",
    "        # Print the JSON data\n",
    "        print(data_)\n",
    "        # extract relevent columns\n",
    "        city=data_['results'][0]['components']['_normalized_city']\n",
    "        continent=data_['results'][0]['components']['continent']\n",
    "        country=data_['results'][0]['components']['country']\n",
    "\n",
    "        return city,continent,country"
   ]
  },
  {
   "cell_type": "markdown",
   "metadata": {},
   "source": [
    "# function: Inserting Users data Api into Sql Products table:"
   ]
  },
  {
   "cell_type": "code",
   "execution_count": 59,
   "metadata": {},
   "outputs": [],
   "source": [
    "def User_exists(User_id,Table):\n",
    "    query = f\"SELECT TOP 1 1 FROM {Table} WHERE userid = ?\"\n",
    "    cursor.execute(query, (User_id,))\n",
    "    return cursor.fetchone() is not None"
   ]
  },
  {
   "cell_type": "code",
   "execution_count": 60,
   "metadata": {},
   "outputs": [],
   "source": [
    "def insert_Users(Users_Info,Table):\n",
    "    new_users=[]\n",
    "    Coordinates=[(31.0461,34.8516),(52.3555,1.1743),(36.2048,138.2529),(51.1657,10.4515)]\n",
    "    for User in Users_Info:\n",
    "        if not User_exists(User['id'],Table):\n",
    "            loacation= Coordinates[random.randint(0,3)]\n",
    "\n",
    "            city,continent,country=Pulling_Geographic_Api_Data(loacation[0],loacation[1])\n",
    "            new_users.append((\n",
    "                User['id'],\n",
    "                User['name']['firstname'],\n",
    "                User['name']['lastname'],\n",
    "                User['email'],\n",
    "                city,\n",
    "                continent,\n",
    "                country\n",
    "\n",
    "            )\n",
    "            )\n",
    "    \n",
    "\n",
    "    insert_query = \"\"\"\n",
    "    INSERT INTO  SILVER.STORE_Users (userid, firstname, lastname, email,city,continent,country)\n",
    "    VALUES (?, ?, ?, ?,?,?,?)\n",
    "    \"\"\"\n",
    "    cursor.executemany(insert_query, new_users)\n",
    "    conn.commit()"
   ]
  },
  {
   "cell_type": "code",
   "execution_count": 61,
   "metadata": {},
   "outputs": [],
   "source": [
    "def Cart_exists(User_id,Table):\n",
    "    query = f\"SELECT TOP 1 1 FROM {Table} WHERE cart_id = ?\"\n",
    "    cursor.execute(query, (User_id,))\n",
    "    return cursor.fetchone() is not None"
   ]
  },
  {
   "cell_type": "code",
   "execution_count": 62,
   "metadata": {},
   "outputs": [],
   "source": [
    "def insert_Carts(Carts_Info,Table):\n",
    "    new_Carts=[]\n",
    "    for Cart in Carts_Info:\n",
    "        if not Cart_exists(Cart['id'],Table):\n",
    "            Cart_id=Cart['id']\n",
    "            userId=Cart['userId']\n",
    "            Cart_date= Cart['date']\n",
    "            for product in Cart['products']:\n",
    "                new_Carts.append((Cart_id,userId,Cart_date,product['productId'],product['quantity']))\n",
    "\n",
    "\n",
    "\n",
    "                    \n",
    "\n",
    "    insert_query = \"\"\"\n",
    "    INSERT INTO  SILVER.Store_Cart_Sales (cart_id, userid, purchase_date, item,quantity)\n",
    "    VALUES (?, ?, ?, ?,?)\n",
    "    \"\"\"\n",
    "    cursor.executemany(insert_query, new_Carts)\n",
    "    conn.commit()"
   ]
  },
  {
   "cell_type": "markdown",
   "metadata": {},
   "source": [
    "# Main :Inserting data into the  database"
   ]
  },
  {
   "cell_type": "code",
   "execution_count": 63,
   "metadata": {},
   "outputs": [
    {
     "name": "stdout",
     "output_type": "stream",
     "text": [
      "{'documentation': 'https://opencagedata.com/api', 'licenses': [{'name': 'see attribution guide', 'url': 'https://opencagedata.com/credits'}], 'rate': {'limit': 2500, 'remaining': 2462, 'reset': 1740009600}, 'results': [{'annotations': {'DMS': {'lat': \"52° 21' 25.05096'' N\", 'lng': \"1° 10' 27.22584'' E\"}, 'MGRS': '31UCU7566402310', 'Maidenhead': 'JO02oi05vq', 'Mercator': {'x': 130714.62, 'y': 6831070.512}, 'OSM': {'edit_url': 'https://www.openstreetmap.org/edit?way=61690343#map=17/52.35696/1.17423', 'note_url': 'https://www.openstreetmap.org/note/new#map=17/52.35696/1.17423&layers=N', 'url': 'https://www.openstreetmap.org/?mlat=52.35696&mlon=1.17423#map=17/52.35696/1.17423'}, 'UN_M49': {'regions': {'EUROPE': '150', 'GB': '826', 'NORTHERN_EUROPE': '154', 'WORLD': '001'}, 'statistical_groupings': ['MEDC']}, 'callingcode': 44, 'currency': {'alternate_symbols': [], 'decimal_mark': '.', 'html_entity': '&#x00A3;', 'iso_code': 'GBP', 'iso_numeric': '826', 'name': 'British Pound', 'smallest_denomination': 1, 'subunit': 'Penny', 'subunit_to_unit': 100, 'symbol': '£', 'symbol_first': 1, 'thousands_separator': ','}, 'flag': '🇬🇧', 'geohash': 'u12cfer13s2zm58sx1pv', 'qibla': 121.23, 'roadinfo': {'drive_on': 'left', 'road': 'Low Street', 'road_reference': 'B1118', 'road_type': 'secondary', 'speed_in': 'mph'}, 'sun': {'rise': {'apparent': 1739948580, 'astronomical': 1739941800, 'civil': 1739946540, 'nautical': 1739944140}, 'set': {'apparent': 1739985360, 'astronomical': 1739992140, 'civil': 1739987400, 'nautical': 1739989800}}, 'timezone': {'name': 'Europe/London', 'now_in_dst': 0, 'offset_sec': 0, 'offset_string': '+0000', 'short_name': 'GMT'}, 'what3words': {'words': 'reassured.aged.cocoons'}}, 'bounds': {'northeast': {'lat': 52.3570575, 'lng': 1.179143}, 'southwest': {'lat': 52.356193, 'lng': 1.1654438}}, 'components': {'ISO_3166-1_alpha-2': 'GB', 'ISO_3166-1_alpha-3': 'GBR', 'ISO_3166-2': ['GB-ENG', 'GB-SFK'], '_category': 'road', '_normalized_city': 'Mid Suffolk', '_type': 'road', 'city': 'Mid Suffolk', 'continent': 'Europe', 'country': 'United Kingdom', 'country_code': 'gb', 'county': 'Suffolk', 'county_code': 'SFK', 'postcode': 'IP21 4AP', 'road': 'Low Street', 'road_reference': 'B1118', 'road_type': 'secondary', 'state': 'England', 'state_code': 'ENG', 'suburb': 'Brome and Oakley', 'village': 'Oakley'}, 'confidence': 9, 'distance_from_q': {'meters': 162}, 'formatted': 'Low Street, Oakley, IP21 4AP, United Kingdom', 'geometry': {'lat': 52.3569586, 'lng': 1.1742294}}], 'status': {'code': 200, 'message': 'OK'}, 'stay_informed': {'blog': 'https://blog.opencagedata.com', 'mastodon': 'https://en.osm.town/@opencage'}, 'thanks': 'For using an OpenCage API', 'timestamp': {'created_http': 'Wed, 19 Feb 2025 12:48:21 GMT', 'created_unix': 1739969301}, 'total_results': 1}\n",
      "{'documentation': 'https://opencagedata.com/api', 'licenses': [{'name': 'see attribution guide', 'url': 'https://opencagedata.com/credits'}], 'rate': {'limit': 2500, 'remaining': 2461, 'reset': 1740009600}, 'results': [{'annotations': {'DMS': {'lat': \"36° 12' 30.74760'' N\", 'lng': \"138° 15' 11.05200'' E\"}, 'MGRS': '54STF5305010577', 'Maidenhead': 'PM96df00ib', 'Mercator': {'x': 15390261.353, 'y': 4304112.072}, 'OSM': {'edit_url': 'https://www.openstreetmap.org/edit?way=142541204#map=17/36.20854/138.25307', 'note_url': 'https://www.openstreetmap.org/note/new#map=17/36.20854/138.25307&layers=N', 'url': 'https://www.openstreetmap.org/?mlat=36.20854&mlon=138.25307#map=17/36.20854/138.25307'}, 'UN_M49': {'regions': {'ASIA': '142', 'EASTERN_ASIA': '030', 'JP': '392', 'WORLD': '001'}, 'statistical_groupings': ['MEDC']}, 'callingcode': 81, 'currency': {'alternate_symbols': ['円', '圓'], 'decimal_mark': '.', 'html_entity': '&#x00A5;', 'iso_code': 'JPY', 'iso_numeric': '392', 'name': 'Japanese Yen', 'smallest_denomination': 1, 'subunit_to_unit': 1, 'symbol': '¥', 'symbol_first': 1, 'thousands_separator': ','}, 'flag': '🇯🇵', 'geohash': 'xn6mfp8f412b3dm87g2k', 'qibla': 292.17, 'roadinfo': {'drive_on': 'left', 'road': 'unnamed road', 'speed_in': 'km/h'}, 'sun': {'rise': {'apparent': 1740000720, 'astronomical': 1739995560, 'civil': 1739999100, 'nautical': 1739997360}, 'set': {'apparent': 1739953860, 'astronomical': 1739958960, 'civil': 1739955420, 'nautical': 1739957220}}, 'timezone': {'name': 'Asia/Tokyo', 'now_in_dst': 0, 'offset_sec': 32400, 'offset_string': '+0900', 'short_name': 'JST'}, 'what3words': {'words': 'declares.bursts.fest'}}, 'bounds': {'northeast': {'lat': 36.209775, 'lng': 138.25307}, 'southwest': {'lat': 36.208541, 'lng': 138.252277}}, 'components': {'ISO_3166-1_alpha-2': 'JP', 'ISO_3166-1_alpha-3': 'JPN', 'ISO_3166-2': ['JP-20'], '_category': 'road', '_normalized_city': 'Nagawa', '_type': 'road', 'continent': 'Asia', 'country': 'Japan', 'country_code': 'jp', 'county': 'Chiisagata County', 'province': 'Nagano Prefecture', 'road': 'unnamed road', 'state': 'Nagano Prefecture', 'town': 'Nagawa'}, 'confidence': 9, 'distance_from_q': {'meters': 416}, 'formatted': 'unnamed road, Nagawa, Nagano Prefecture, Japan', 'geometry': {'lat': 36.208541, 'lng': 138.25307}}], 'status': {'code': 200, 'message': 'OK'}, 'stay_informed': {'blog': 'https://blog.opencagedata.com', 'mastodon': 'https://en.osm.town/@opencage'}, 'thanks': 'For using an OpenCage API', 'timestamp': {'created_http': 'Wed, 19 Feb 2025 12:48:22 GMT', 'created_unix': 1739969302}, 'total_results': 1}\n",
      "{'documentation': 'https://opencagedata.com/api', 'licenses': [{'name': 'see attribution guide', 'url': 'https://opencagedata.com/credits'}], 'rate': {'limit': 2500, 'remaining': 2460, 'reset': 1740009600}, 'results': [{'annotations': {'DMS': {'lat': \"36° 12' 30.74760'' N\", 'lng': \"138° 15' 11.05200'' E\"}, 'MGRS': '54STF5305010577', 'Maidenhead': 'PM96df00ib', 'Mercator': {'x': 15390261.353, 'y': 4304112.072}, 'OSM': {'edit_url': 'https://www.openstreetmap.org/edit?way=142541204#map=16/36.20854/138.25307', 'note_url': 'https://www.openstreetmap.org/note/new#map=16/36.20854/138.25307&layers=N', 'url': 'https://www.openstreetmap.org/?mlat=36.20854&mlon=138.25307#map=16/36.20854/138.25307'}, 'UN_M49': {'regions': {'ASIA': '142', 'EASTERN_ASIA': '030', 'JP': '392', 'WORLD': '001'}, 'statistical_groupings': ['MEDC']}, 'callingcode': 81, 'currency': {'alternate_symbols': ['円', '圓'], 'decimal_mark': '.', 'html_entity': '&#x00A5;', 'iso_code': 'JPY', 'iso_numeric': '392', 'name': 'Japanese Yen', 'smallest_denomination': 1, 'subunit_to_unit': 1, 'symbol': '¥', 'symbol_first': 1, 'thousands_separator': ','}, 'flag': '🇯🇵', 'geohash': 'xn6mfp8f412b3dm87g2k', 'qibla': 292.17, 'roadinfo': {'drive_on': 'left', 'road': 'unnamed road', 'speed_in': 'km/h'}, 'sun': {'rise': {'apparent': 1740000720, 'astronomical': 1739995560, 'civil': 1739999100, 'nautical': 1739997360}, 'set': {'apparent': 1739953860, 'astronomical': 1739958960, 'civil': 1739955420, 'nautical': 1739957220}}, 'timezone': {'name': 'Asia/Tokyo', 'now_in_dst': 0, 'offset_sec': 32400, 'offset_string': '+0900', 'short_name': 'JST'}, 'what3words': {'words': 'declares.bursts.fest'}}, 'bounds': {'northeast': {'lat': 36.209775, 'lng': 138.25307}, 'southwest': {'lat': 36.208541, 'lng': 138.252277}}, 'components': {'ISO_3166-1_alpha-2': 'JP', 'ISO_3166-1_alpha-3': 'JPN', 'ISO_3166-2': ['JP-20'], '_category': 'road', '_normalized_city': 'Nagawa', '_type': 'road', 'continent': 'Asia', 'country': 'Japan', 'country_code': 'jp', 'county': 'Chiisagata County', 'province': 'Nagano Prefecture', 'road': 'unnamed road', 'state': 'Nagano Prefecture', 'town': 'Nagawa'}, 'confidence': 9, 'distance_from_q': {'meters': 416}, 'formatted': 'unnamed road, Nagawa, Nagano Prefecture, Japan', 'geometry': {'lat': 36.208541, 'lng': 138.25307}}], 'status': {'code': 200, 'message': 'OK'}, 'stay_informed': {'blog': 'https://blog.opencagedata.com', 'mastodon': 'https://en.osm.town/@opencage'}, 'thanks': 'For using an OpenCage API', 'timestamp': {'created_http': 'Wed, 19 Feb 2025 12:48:23 GMT', 'created_unix': 1739969303}, 'total_results': 1}\n",
      "{'documentation': 'https://opencagedata.com/api', 'licenses': [{'name': 'see attribution guide', 'url': 'https://opencagedata.com/credits'}], 'rate': {'limit': 2500, 'remaining': 2459, 'reset': 1740009600}, 'results': [{'annotations': {'DMS': {'lat': \"31° 2' 55.02552'' N\", 'lng': \"34° 51' 21.29400'' E\"}, 'MGRS': '36RXV7710136469', 'Maidenhead': 'KM71kb21rq', 'Mercator': {'x': 3880142.704, 'y': 3617029.698}, 'OSM': {'edit_url': 'https://www.openstreetmap.org/edit?way=1182945518#map=17/31.04862/34.85591', 'note_url': 'https://www.openstreetmap.org/note/new#map=17/31.04862/34.85591&layers=N', 'url': 'https://www.openstreetmap.org/?mlat=31.04862&mlon=34.85591#map=17/31.04862/34.85591'}, 'UN_M49': {'regions': {'ASIA': '142', 'IL': '376', 'WESTERN_ASIA': '145', 'WORLD': '001'}, 'statistical_groupings': ['MEDC']}, 'callingcode': 972, 'currency': {'alternate_symbols': ['ש״ח', 'NIS'], 'decimal_mark': '.', 'html_entity': '&#x20AA;', 'iso_code': 'ILS', 'iso_numeric': '376', 'name': 'Israeli New Sheqel', 'smallest_denomination': 10, 'subunit': 'Agora', 'subunit_to_unit': 100, 'symbol': '₪', 'symbol_first': 1, 'thousands_separator': ','}, 'flag': '🇮🇱', 'geohash': 'sv8b9hjr39vyntq4fq8e', 'qibla': 154.01, 'roadinfo': {'drive_on': 'right', 'road': '224', 'road_reference': '224', 'road_type': 'primary', 'speed_in': 'km/h'}, 'sun': {'rise': {'apparent': 1739938740, 'astronomical': 1739933880, 'civil': 1739937240, 'nautical': 1739935560}, 'set': {'apparent': 1739979000, 'astronomical': 1739983860, 'civil': 1739980500, 'nautical': 1739982180}}, 'timezone': {'name': 'Asia/Jerusalem', 'now_in_dst': 0, 'offset_sec': 7200, 'offset_string': '+0200', 'short_name': 'IST'}, 'what3words': {'words': 'subpart.universe.gape'}}, 'bounds': {'northeast': {'lat': 31.0585182, 'lng': 34.8801828}, 'southwest': {'lat': 31.0209677, 'lng': 34.8533984}}, 'components': {'ISO_3166-1_alpha-2': 'IL', 'ISO_3166-1_alpha-3': 'ISR', 'ISO_3166-2': ['IL-D'], '_category': 'road', '_normalized_city': 'Ramat Negev Regional Council', '_type': 'road', 'city': 'Ramat Negev Regional Council', 'continent': 'Asia', 'country': 'Israel', 'country_code': 'il', 'road': '224', 'road_reference': '224', 'road_type': 'primary', 'state': 'South District', 'state_district': 'Beersheba Subdistrict'}, 'confidence': 7, 'distance_from_q': {'meters': 497}, 'formatted': '224, Ramat Negev Regional Council, Israel', 'geometry': {'lat': 31.0486182, 'lng': 34.855915}}], 'status': {'code': 200, 'message': 'OK'}, 'stay_informed': {'blog': 'https://blog.opencagedata.com', 'mastodon': 'https://en.osm.town/@opencage'}, 'thanks': 'For using an OpenCage API', 'timestamp': {'created_http': 'Wed, 19 Feb 2025 12:48:24 GMT', 'created_unix': 1739969304}, 'total_results': 1}\n",
      "{'documentation': 'https://opencagedata.com/api', 'licenses': [{'name': 'see attribution guide', 'url': 'https://opencagedata.com/credits'}], 'rate': {'limit': 2500, 'remaining': 2458, 'reset': 1740009600}, 'results': [{'annotations': {'DMS': {'lat': \"31° 2' 55.02552'' N\", 'lng': \"34° 51' 21.29400'' E\"}, 'MGRS': '36RXV7710136469', 'Maidenhead': 'KM71kb21rq', 'Mercator': {'x': 3880142.704, 'y': 3617029.698}, 'OSM': {'edit_url': 'https://www.openstreetmap.org/edit?way=1182945518#map=17/31.04862/34.85591', 'note_url': 'https://www.openstreetmap.org/note/new#map=17/31.04862/34.85591&layers=N', 'url': 'https://www.openstreetmap.org/?mlat=31.04862&mlon=34.85591#map=17/31.04862/34.85591'}, 'UN_M49': {'regions': {'ASIA': '142', 'IL': '376', 'WESTERN_ASIA': '145', 'WORLD': '001'}, 'statistical_groupings': ['MEDC']}, 'callingcode': 972, 'currency': {'alternate_symbols': ['ש״ח', 'NIS'], 'decimal_mark': '.', 'html_entity': '&#x20AA;', 'iso_code': 'ILS', 'iso_numeric': '376', 'name': 'Israeli New Sheqel', 'smallest_denomination': 10, 'subunit': 'Agora', 'subunit_to_unit': 100, 'symbol': '₪', 'symbol_first': 1, 'thousands_separator': ','}, 'flag': '🇮🇱', 'geohash': 'sv8b9hjr39vyntq4fq8e', 'qibla': 154.01, 'roadinfo': {'drive_on': 'right', 'road': '224', 'road_reference': '224', 'road_type': 'primary', 'speed_in': 'km/h'}, 'sun': {'rise': {'apparent': 1739938740, 'astronomical': 1739933880, 'civil': 1739937240, 'nautical': 1739935560}, 'set': {'apparent': 1739979000, 'astronomical': 1739983860, 'civil': 1739980500, 'nautical': 1739982180}}, 'timezone': {'name': 'Asia/Jerusalem', 'now_in_dst': 0, 'offset_sec': 7200, 'offset_string': '+0200', 'short_name': 'IST'}, 'what3words': {'words': 'subpart.universe.gape'}}, 'bounds': {'northeast': {'lat': 31.0585182, 'lng': 34.8801828}, 'southwest': {'lat': 31.0209677, 'lng': 34.8533984}}, 'components': {'ISO_3166-1_alpha-2': 'IL', 'ISO_3166-1_alpha-3': 'ISR', 'ISO_3166-2': ['IL-D'], '_category': 'road', '_normalized_city': 'Ramat Negev Regional Council', '_type': 'road', 'city': 'Ramat Negev Regional Council', 'continent': 'Asia', 'country': 'Israel', 'country_code': 'il', 'road': '224', 'road_reference': '224', 'road_type': 'primary', 'state': 'South District', 'state_district': 'Beersheba Subdistrict'}, 'confidence': 7, 'distance_from_q': {'meters': 497}, 'formatted': '224, Ramat Negev Regional Council, Israel', 'geometry': {'lat': 31.0486182, 'lng': 34.855915}}], 'status': {'code': 200, 'message': 'OK'}, 'stay_informed': {'blog': 'https://blog.opencagedata.com', 'mastodon': 'https://en.osm.town/@opencage'}, 'thanks': 'For using an OpenCage API', 'timestamp': {'created_http': 'Wed, 19 Feb 2025 12:48:25 GMT', 'created_unix': 1739969305}, 'total_results': 1}\n",
      "{'documentation': 'https://opencagedata.com/api', 'licenses': [{'name': 'see attribution guide', 'url': 'https://opencagedata.com/credits'}], 'rate': {'limit': 2500, 'remaining': 2457, 'reset': 1740009600}, 'results': [{'annotations': {'DMS': {'lat': \"52° 21' 25.05096'' N\", 'lng': \"1° 10' 27.22584'' E\"}, 'MGRS': '31UCU7566402310', 'Maidenhead': 'JO02oi05vq', 'Mercator': {'x': 130714.62, 'y': 6831070.512}, 'OSM': {'edit_url': 'https://www.openstreetmap.org/edit?way=61690343#map=17/52.35696/1.17423', 'note_url': 'https://www.openstreetmap.org/note/new#map=17/52.35696/1.17423&layers=N', 'url': 'https://www.openstreetmap.org/?mlat=52.35696&mlon=1.17423#map=17/52.35696/1.17423'}, 'UN_M49': {'regions': {'EUROPE': '150', 'GB': '826', 'NORTHERN_EUROPE': '154', 'WORLD': '001'}, 'statistical_groupings': ['MEDC']}, 'callingcode': 44, 'currency': {'alternate_symbols': [], 'decimal_mark': '.', 'html_entity': '&#x00A3;', 'iso_code': 'GBP', 'iso_numeric': '826', 'name': 'British Pound', 'smallest_denomination': 1, 'subunit': 'Penny', 'subunit_to_unit': 100, 'symbol': '£', 'symbol_first': 1, 'thousands_separator': ','}, 'flag': '🇬🇧', 'geohash': 'u12cfer13s2zm58sx1pv', 'qibla': 121.23, 'roadinfo': {'drive_on': 'left', 'road': 'Low Street', 'road_reference': 'B1118', 'road_type': 'secondary', 'speed_in': 'mph'}, 'sun': {'rise': {'apparent': 1739948580, 'astronomical': 1739941800, 'civil': 1739946540, 'nautical': 1739944140}, 'set': {'apparent': 1739985360, 'astronomical': 1739992140, 'civil': 1739987400, 'nautical': 1739989800}}, 'timezone': {'name': 'Europe/London', 'now_in_dst': 0, 'offset_sec': 0, 'offset_string': '+0000', 'short_name': 'GMT'}, 'what3words': {'words': 'reassured.aged.cocoons'}}, 'bounds': {'northeast': {'lat': 52.3570575, 'lng': 1.179143}, 'southwest': {'lat': 52.356193, 'lng': 1.1654438}}, 'components': {'ISO_3166-1_alpha-2': 'GB', 'ISO_3166-1_alpha-3': 'GBR', 'ISO_3166-2': ['GB-ENG', 'GB-SFK'], '_category': 'road', '_normalized_city': 'Mid Suffolk', '_type': 'road', 'city': 'Mid Suffolk', 'continent': 'Europe', 'country': 'United Kingdom', 'country_code': 'gb', 'county': 'Suffolk', 'county_code': 'SFK', 'postcode': 'IP21 4AP', 'road': 'Low Street', 'road_reference': 'B1118', 'road_type': 'secondary', 'state': 'England', 'state_code': 'ENG', 'suburb': 'Brome and Oakley', 'village': 'Oakley'}, 'confidence': 9, 'distance_from_q': {'meters': 162}, 'formatted': 'Low Street, Oakley, IP21 4AP, United Kingdom', 'geometry': {'lat': 52.3569586, 'lng': 1.1742294}}], 'status': {'code': 200, 'message': 'OK'}, 'stay_informed': {'blog': 'https://blog.opencagedata.com', 'mastodon': 'https://en.osm.town/@opencage'}, 'thanks': 'For using an OpenCage API', 'timestamp': {'created_http': 'Wed, 19 Feb 2025 12:48:26 GMT', 'created_unix': 1739969306}, 'total_results': 1}\n",
      "{'documentation': 'https://opencagedata.com/api', 'licenses': [{'name': 'see attribution guide', 'url': 'https://opencagedata.com/credits'}], 'rate': {'limit': 2500, 'remaining': 2456, 'reset': 1740009600}, 'results': [{'annotations': {'DMS': {'lat': \"31° 2' 55.02552'' N\", 'lng': \"34° 51' 21.29400'' E\"}, 'MGRS': '36RXV7710136469', 'Maidenhead': 'KM71kb21rq', 'Mercator': {'x': 3880142.704, 'y': 3617029.698}, 'OSM': {'edit_url': 'https://www.openstreetmap.org/edit?way=1182945518#map=17/31.04862/34.85591', 'note_url': 'https://www.openstreetmap.org/note/new#map=17/31.04862/34.85591&layers=N', 'url': 'https://www.openstreetmap.org/?mlat=31.04862&mlon=34.85591#map=17/31.04862/34.85591'}, 'UN_M49': {'regions': {'ASIA': '142', 'IL': '376', 'WESTERN_ASIA': '145', 'WORLD': '001'}, 'statistical_groupings': ['MEDC']}, 'callingcode': 972, 'currency': {'alternate_symbols': ['ש״ח', 'NIS'], 'decimal_mark': '.', 'html_entity': '&#x20AA;', 'iso_code': 'ILS', 'iso_numeric': '376', 'name': 'Israeli New Sheqel', 'smallest_denomination': 10, 'subunit': 'Agora', 'subunit_to_unit': 100, 'symbol': '₪', 'symbol_first': 1, 'thousands_separator': ','}, 'flag': '🇮🇱', 'geohash': 'sv8b9hjr39vyntq4fq8e', 'qibla': 154.01, 'roadinfo': {'drive_on': 'right', 'road': '224', 'road_reference': '224', 'road_type': 'primary', 'speed_in': 'km/h'}, 'sun': {'rise': {'apparent': 1739938740, 'astronomical': 1739933880, 'civil': 1739937240, 'nautical': 1739935560}, 'set': {'apparent': 1739979000, 'astronomical': 1739983860, 'civil': 1739980500, 'nautical': 1739982180}}, 'timezone': {'name': 'Asia/Jerusalem', 'now_in_dst': 0, 'offset_sec': 7200, 'offset_string': '+0200', 'short_name': 'IST'}, 'what3words': {'words': 'subpart.universe.gape'}}, 'bounds': {'northeast': {'lat': 31.0585182, 'lng': 34.8801828}, 'southwest': {'lat': 31.0209677, 'lng': 34.8533984}}, 'components': {'ISO_3166-1_alpha-2': 'IL', 'ISO_3166-1_alpha-3': 'ISR', 'ISO_3166-2': ['IL-D'], '_category': 'road', '_normalized_city': 'Ramat Negev Regional Council', '_type': 'road', 'city': 'Ramat Negev Regional Council', 'continent': 'Asia', 'country': 'Israel', 'country_code': 'il', 'road': '224', 'road_reference': '224', 'road_type': 'primary', 'state': 'South District', 'state_district': 'Beersheba Subdistrict'}, 'confidence': 7, 'distance_from_q': {'meters': 497}, 'formatted': '224, Ramat Negev Regional Council, Israel', 'geometry': {'lat': 31.0486182, 'lng': 34.855915}}], 'status': {'code': 200, 'message': 'OK'}, 'stay_informed': {'blog': 'https://blog.opencagedata.com', 'mastodon': 'https://en.osm.town/@opencage'}, 'thanks': 'For using an OpenCage API', 'timestamp': {'created_http': 'Wed, 19 Feb 2025 12:48:27 GMT', 'created_unix': 1739969307}, 'total_results': 1}\n",
      "{'documentation': 'https://opencagedata.com/api', 'licenses': [{'name': 'see attribution guide', 'url': 'https://opencagedata.com/credits'}], 'rate': {'limit': 2500, 'remaining': 2455, 'reset': 1740009600}, 'results': [{'annotations': {'DMS': {'lat': \"36° 12' 30.74760'' N\", 'lng': \"138° 15' 11.05200'' E\"}, 'MGRS': '54STF5305010577', 'Maidenhead': 'PM96df00ib', 'Mercator': {'x': 15390261.353, 'y': 4304112.072}, 'OSM': {'edit_url': 'https://www.openstreetmap.org/edit?way=142541204#map=17/36.20854/138.25307', 'note_url': 'https://www.openstreetmap.org/note/new#map=17/36.20854/138.25307&layers=N', 'url': 'https://www.openstreetmap.org/?mlat=36.20854&mlon=138.25307#map=17/36.20854/138.25307'}, 'UN_M49': {'regions': {'ASIA': '142', 'EASTERN_ASIA': '030', 'JP': '392', 'WORLD': '001'}, 'statistical_groupings': ['MEDC']}, 'callingcode': 81, 'currency': {'alternate_symbols': ['円', '圓'], 'decimal_mark': '.', 'html_entity': '&#x00A5;', 'iso_code': 'JPY', 'iso_numeric': '392', 'name': 'Japanese Yen', 'smallest_denomination': 1, 'subunit_to_unit': 1, 'symbol': '¥', 'symbol_first': 1, 'thousands_separator': ','}, 'flag': '🇯🇵', 'geohash': 'xn6mfp8f412b3dm87g2k', 'qibla': 292.17, 'roadinfo': {'drive_on': 'left', 'road': 'unnamed road', 'speed_in': 'km/h'}, 'sun': {'rise': {'apparent': 1740000720, 'astronomical': 1739995560, 'civil': 1739999100, 'nautical': 1739997360}, 'set': {'apparent': 1739953860, 'astronomical': 1739958960, 'civil': 1739955420, 'nautical': 1739957220}}, 'timezone': {'name': 'Asia/Tokyo', 'now_in_dst': 0, 'offset_sec': 32400, 'offset_string': '+0900', 'short_name': 'JST'}, 'what3words': {'words': 'declares.bursts.fest'}}, 'bounds': {'northeast': {'lat': 36.209775, 'lng': 138.25307}, 'southwest': {'lat': 36.208541, 'lng': 138.252277}}, 'components': {'ISO_3166-1_alpha-2': 'JP', 'ISO_3166-1_alpha-3': 'JPN', 'ISO_3166-2': ['JP-20'], '_category': 'road', '_normalized_city': 'Nagawa', '_type': 'road', 'continent': 'Asia', 'country': 'Japan', 'country_code': 'jp', 'county': 'Chiisagata County', 'province': 'Nagano Prefecture', 'road': 'unnamed road', 'state': 'Nagano Prefecture', 'town': 'Nagawa'}, 'confidence': 9, 'distance_from_q': {'meters': 416}, 'formatted': 'unnamed road, Nagawa, Nagano Prefecture, Japan', 'geometry': {'lat': 36.208541, 'lng': 138.25307}}], 'status': {'code': 200, 'message': 'OK'}, 'stay_informed': {'blog': 'https://blog.opencagedata.com', 'mastodon': 'https://en.osm.town/@opencage'}, 'thanks': 'For using an OpenCage API', 'timestamp': {'created_http': 'Wed, 19 Feb 2025 12:48:28 GMT', 'created_unix': 1739969308}, 'total_results': 1}\n",
      "{'documentation': 'https://opencagedata.com/api', 'licenses': [{'name': 'see attribution guide', 'url': 'https://opencagedata.com/credits'}], 'rate': {'limit': 2500, 'remaining': 2454, 'reset': 1740009600}, 'results': [{'annotations': {'DMS': {'lat': \"31° 2' 55.02552'' N\", 'lng': \"34° 51' 21.29400'' E\"}, 'MGRS': '36RXV7710136469', 'Maidenhead': 'KM71kb21rq', 'Mercator': {'x': 3880142.704, 'y': 3617029.698}, 'OSM': {'edit_url': 'https://www.openstreetmap.org/edit?way=1182945518#map=17/31.04862/34.85591', 'note_url': 'https://www.openstreetmap.org/note/new#map=17/31.04862/34.85591&layers=N', 'url': 'https://www.openstreetmap.org/?mlat=31.04862&mlon=34.85591#map=17/31.04862/34.85591'}, 'UN_M49': {'regions': {'ASIA': '142', 'IL': '376', 'WESTERN_ASIA': '145', 'WORLD': '001'}, 'statistical_groupings': ['MEDC']}, 'callingcode': 972, 'currency': {'alternate_symbols': ['ש״ח', 'NIS'], 'decimal_mark': '.', 'html_entity': '&#x20AA;', 'iso_code': 'ILS', 'iso_numeric': '376', 'name': 'Israeli New Sheqel', 'smallest_denomination': 10, 'subunit': 'Agora', 'subunit_to_unit': 100, 'symbol': '₪', 'symbol_first': 1, 'thousands_separator': ','}, 'flag': '🇮🇱', 'geohash': 'sv8b9hjr39vyntq4fq8e', 'qibla': 154.01, 'roadinfo': {'drive_on': 'right', 'road': '224', 'road_reference': '224', 'road_type': 'primary', 'speed_in': 'km/h'}, 'sun': {'rise': {'apparent': 1739938740, 'astronomical': 1739933880, 'civil': 1739937240, 'nautical': 1739935560}, 'set': {'apparent': 1739979000, 'astronomical': 1739983860, 'civil': 1739980500, 'nautical': 1739982180}}, 'timezone': {'name': 'Asia/Jerusalem', 'now_in_dst': 0, 'offset_sec': 7200, 'offset_string': '+0200', 'short_name': 'IST'}, 'what3words': {'words': 'subpart.universe.gape'}}, 'bounds': {'northeast': {'lat': 31.0585182, 'lng': 34.8801828}, 'southwest': {'lat': 31.0209677, 'lng': 34.8533984}}, 'components': {'ISO_3166-1_alpha-2': 'IL', 'ISO_3166-1_alpha-3': 'ISR', 'ISO_3166-2': ['IL-D'], '_category': 'road', '_normalized_city': 'Ramat Negev Regional Council', '_type': 'road', 'city': 'Ramat Negev Regional Council', 'continent': 'Asia', 'country': 'Israel', 'country_code': 'il', 'road': '224', 'road_reference': '224', 'road_type': 'primary', 'state': 'South District', 'state_district': 'Beersheba Subdistrict'}, 'confidence': 7, 'distance_from_q': {'meters': 497}, 'formatted': '224, Ramat Negev Regional Council, Israel', 'geometry': {'lat': 31.0486182, 'lng': 34.855915}}], 'status': {'code': 200, 'message': 'OK'}, 'stay_informed': {'blog': 'https://blog.opencagedata.com', 'mastodon': 'https://en.osm.town/@opencage'}, 'thanks': 'For using an OpenCage API', 'timestamp': {'created_http': 'Wed, 19 Feb 2025 12:48:29 GMT', 'created_unix': 1739969309}, 'total_results': 1}\n",
      "{'documentation': 'https://opencagedata.com/api', 'licenses': [{'name': 'see attribution guide', 'url': 'https://opencagedata.com/credits'}], 'rate': {'limit': 2500, 'remaining': 2453, 'reset': 1740009600}, 'results': [{'annotations': {'DMS': {'lat': \"36° 12' 30.74760'' N\", 'lng': \"138° 15' 11.05200'' E\"}, 'MGRS': '54STF5305010577', 'Maidenhead': 'PM96df00ib', 'Mercator': {'x': 15390261.353, 'y': 4304112.072}, 'OSM': {'edit_url': 'https://www.openstreetmap.org/edit?way=142541204#map=17/36.20854/138.25307', 'note_url': 'https://www.openstreetmap.org/note/new#map=17/36.20854/138.25307&layers=N', 'url': 'https://www.openstreetmap.org/?mlat=36.20854&mlon=138.25307#map=17/36.20854/138.25307'}, 'UN_M49': {'regions': {'ASIA': '142', 'EASTERN_ASIA': '030', 'JP': '392', 'WORLD': '001'}, 'statistical_groupings': ['MEDC']}, 'callingcode': 81, 'currency': {'alternate_symbols': ['円', '圓'], 'decimal_mark': '.', 'html_entity': '&#x00A5;', 'iso_code': 'JPY', 'iso_numeric': '392', 'name': 'Japanese Yen', 'smallest_denomination': 1, 'subunit_to_unit': 1, 'symbol': '¥', 'symbol_first': 1, 'thousands_separator': ','}, 'flag': '🇯🇵', 'geohash': 'xn6mfp8f412b3dm87g2k', 'qibla': 292.17, 'roadinfo': {'drive_on': 'left', 'road': 'unnamed road', 'speed_in': 'km/h'}, 'sun': {'rise': {'apparent': 1740000720, 'astronomical': 1739995560, 'civil': 1739999100, 'nautical': 1739997360}, 'set': {'apparent': 1739953860, 'astronomical': 1739958960, 'civil': 1739955420, 'nautical': 1739957220}}, 'timezone': {'name': 'Asia/Tokyo', 'now_in_dst': 0, 'offset_sec': 32400, 'offset_string': '+0900', 'short_name': 'JST'}, 'what3words': {'words': 'declares.bursts.fest'}}, 'bounds': {'northeast': {'lat': 36.209775, 'lng': 138.25307}, 'southwest': {'lat': 36.208541, 'lng': 138.252277}}, 'components': {'ISO_3166-1_alpha-2': 'JP', 'ISO_3166-1_alpha-3': 'JPN', 'ISO_3166-2': ['JP-20'], '_category': 'road', '_normalized_city': 'Nagawa', '_type': 'road', 'continent': 'Asia', 'country': 'Japan', 'country_code': 'jp', 'county': 'Chiisagata County', 'province': 'Nagano Prefecture', 'road': 'unnamed road', 'state': 'Nagano Prefecture', 'town': 'Nagawa'}, 'confidence': 9, 'distance_from_q': {'meters': 416}, 'formatted': 'unnamed road, Nagawa, Nagano Prefecture, Japan', 'geometry': {'lat': 36.208541, 'lng': 138.25307}}], 'status': {'code': 200, 'message': 'OK'}, 'stay_informed': {'blog': 'https://blog.opencagedata.com', 'mastodon': 'https://en.osm.town/@opencage'}, 'thanks': 'For using an OpenCage API', 'timestamp': {'created_http': 'Wed, 19 Feb 2025 12:48:30 GMT', 'created_unix': 1739969310}, 'total_results': 1}\n"
     ]
    }
   ],
   "source": [
    "# pulling data from Store Api\n",
    "All_data=Pulling_Store_Api_Data()\n",
    "# inserting product data to database\n",
    "insert_products(All_data['products'],'SILVER.Store_Products')\n",
    "# inserting Users data to database\n",
    "insert_Users(All_data['users'],'SILVER.STORE_Users')\n",
    "# inserting carts to database\n",
    "insert_Carts(All_data['carts'],'SILVER.Store_Cart_Sales')\n"
   ]
  }
 ],
 "metadata": {
  "kernelspec": {
   "display_name": "Python 3",
   "language": "python",
   "name": "python3"
  },
  "language_info": {
   "codemirror_mode": {
    "name": "ipython",
    "version": 3
   },
   "file_extension": ".py",
   "mimetype": "text/x-python",
   "name": "python",
   "nbconvert_exporter": "python",
   "pygments_lexer": "ipython3",
   "version": "3.11.9"
  }
 },
 "nbformat": 4,
 "nbformat_minor": 2
}
